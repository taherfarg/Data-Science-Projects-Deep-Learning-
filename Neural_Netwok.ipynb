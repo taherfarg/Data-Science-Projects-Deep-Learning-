{
 "cells": [
  {
   "cell_type": "code",
   "execution_count": 3,
   "metadata": {},
   "outputs": [],
   "source": [
    "#Import Libraries\n",
    "from sklearn.datasets import load_iris\n",
    "from sklearn.model_selection import train_test_split\n",
    "from sklearn.neural_network import MLPClassifier\n",
    "from sklearn.metrics import confusion_matrix\n",
    "import seaborn as sns\n",
    "import matplotlib.pyplot as plt\n"
   ]
  },
  {
   "cell_type": "code",
   "execution_count": 4,
   "metadata": {},
   "outputs": [],
   "source": [
    "#load iris data\n",
    "\n",
    "IrisData = load_iris()\n",
    "\n",
    "#X Data\n",
    "X = IrisData.data\n",
    "\n",
    "#y Data\n",
    "y = IrisData.target\n",
    "\n",
    "#----------------------------------------------------\n"
   ]
  },
  {
   "cell_type": "code",
   "execution_count": 5,
   "metadata": {},
   "outputs": [
    {
     "data": {
      "text/html": [
       "<style>#sk-container-id-1 {color: black;}#sk-container-id-1 pre{padding: 0;}#sk-container-id-1 div.sk-toggleable {background-color: white;}#sk-container-id-1 label.sk-toggleable__label {cursor: pointer;display: block;width: 100%;margin-bottom: 0;padding: 0.3em;box-sizing: border-box;text-align: center;}#sk-container-id-1 label.sk-toggleable__label-arrow:before {content: \"▸\";float: left;margin-right: 0.25em;color: #696969;}#sk-container-id-1 label.sk-toggleable__label-arrow:hover:before {color: black;}#sk-container-id-1 div.sk-estimator:hover label.sk-toggleable__label-arrow:before {color: black;}#sk-container-id-1 div.sk-toggleable__content {max-height: 0;max-width: 0;overflow: hidden;text-align: left;background-color: #f0f8ff;}#sk-container-id-1 div.sk-toggleable__content pre {margin: 0.2em;color: black;border-radius: 0.25em;background-color: #f0f8ff;}#sk-container-id-1 input.sk-toggleable__control:checked~div.sk-toggleable__content {max-height: 200px;max-width: 100%;overflow: auto;}#sk-container-id-1 input.sk-toggleable__control:checked~label.sk-toggleable__label-arrow:before {content: \"▾\";}#sk-container-id-1 div.sk-estimator input.sk-toggleable__control:checked~label.sk-toggleable__label {background-color: #d4ebff;}#sk-container-id-1 div.sk-label input.sk-toggleable__control:checked~label.sk-toggleable__label {background-color: #d4ebff;}#sk-container-id-1 input.sk-hidden--visually {border: 0;clip: rect(1px 1px 1px 1px);clip: rect(1px, 1px, 1px, 1px);height: 1px;margin: -1px;overflow: hidden;padding: 0;position: absolute;width: 1px;}#sk-container-id-1 div.sk-estimator {font-family: monospace;background-color: #f0f8ff;border: 1px dotted black;border-radius: 0.25em;box-sizing: border-box;margin-bottom: 0.5em;}#sk-container-id-1 div.sk-estimator:hover {background-color: #d4ebff;}#sk-container-id-1 div.sk-parallel-item::after {content: \"\";width: 100%;border-bottom: 1px solid gray;flex-grow: 1;}#sk-container-id-1 div.sk-label:hover label.sk-toggleable__label {background-color: #d4ebff;}#sk-container-id-1 div.sk-serial::before {content: \"\";position: absolute;border-left: 1px solid gray;box-sizing: border-box;top: 0;bottom: 0;left: 50%;z-index: 0;}#sk-container-id-1 div.sk-serial {display: flex;flex-direction: column;align-items: center;background-color: white;padding-right: 0.2em;padding-left: 0.2em;position: relative;}#sk-container-id-1 div.sk-item {position: relative;z-index: 1;}#sk-container-id-1 div.sk-parallel {display: flex;align-items: stretch;justify-content: center;background-color: white;position: relative;}#sk-container-id-1 div.sk-item::before, #sk-container-id-1 div.sk-parallel-item::before {content: \"\";position: absolute;border-left: 1px solid gray;box-sizing: border-box;top: 0;bottom: 0;left: 50%;z-index: -1;}#sk-container-id-1 div.sk-parallel-item {display: flex;flex-direction: column;z-index: 1;position: relative;background-color: white;}#sk-container-id-1 div.sk-parallel-item:first-child::after {align-self: flex-end;width: 50%;}#sk-container-id-1 div.sk-parallel-item:last-child::after {align-self: flex-start;width: 50%;}#sk-container-id-1 div.sk-parallel-item:only-child::after {width: 0;}#sk-container-id-1 div.sk-dashed-wrapped {border: 1px dashed gray;margin: 0 0.4em 0.5em 0.4em;box-sizing: border-box;padding-bottom: 0.4em;background-color: white;}#sk-container-id-1 div.sk-label label {font-family: monospace;font-weight: bold;display: inline-block;line-height: 1.2em;}#sk-container-id-1 div.sk-label-container {text-align: center;}#sk-container-id-1 div.sk-container {/* jupyter's `normalize.less` sets `[hidden] { display: none; }` but bootstrap.min.css set `[hidden] { display: none !important; }` so we also need the `!important` here to be able to override the default hidden behavior on the sphinx rendered scikit-learn.org. See: https://github.com/scikit-learn/scikit-learn/issues/21755 */display: inline-block !important;position: relative;}#sk-container-id-1 div.sk-text-repr-fallback {display: none;}</style><div id=\"sk-container-id-1\" class=\"sk-top-container\"><div class=\"sk-text-repr-fallback\"><pre>MLPClassifier(hidden_layer_sizes=(250, 3), random_state=33)</pre><b>In a Jupyter environment, please rerun this cell to show the HTML representation or trust the notebook. <br />On GitHub, the HTML representation is unable to render, please try loading this page with nbviewer.org.</b></div><div class=\"sk-container\" hidden><div class=\"sk-item\"><div class=\"sk-estimator sk-toggleable\"><input class=\"sk-toggleable__control sk-hidden--visually\" id=\"sk-estimator-id-1\" type=\"checkbox\" checked><label for=\"sk-estimator-id-1\" class=\"sk-toggleable__label sk-toggleable__label-arrow\">MLPClassifier</label><div class=\"sk-toggleable__content\"><pre>MLPClassifier(hidden_layer_sizes=(250, 3), random_state=33)</pre></div></div></div></div></div>"
      ],
      "text/plain": [
       "MLPClassifier(hidden_layer_sizes=(250, 3), random_state=33)"
      ]
     },
     "execution_count": 5,
     "metadata": {},
     "output_type": "execute_result"
    }
   ],
   "source": [
    "#Splitting data\n",
    "\n",
    "X_train, X_test, y_train, y_test = train_test_split(X, y, test_size=0.33, random_state=44, shuffle =True)\n",
    "#----------------------------------------------------\n",
    "#Applying MLPClassifier Model \n",
    "'''\n",
    "sklearn.neural_network.MLPClassifier(hidden_layer_sizes=(100, ), activation='relu’, solver=’adam’,\n",
    "                                     alpha=0.0001,batch_size='auto’, learning_rate=’constant’,momentum=0.9,\n",
    "                                     learning_rate_init=0.001, power_t=0.5,max_iter=200, shuffle=True,\n",
    "                                     random_state=None, tol=0.0001, verbose=False, warm_start=False, \n",
    "                                     n_iter_no_change=10, nesterovs_momentum=True,early_stopping=False, \n",
    "                                     validation_fraction=0.1,beta_1=0.9, beta_2=0.999, epsilon=1E-08,)\n",
    "'''\n",
    "\n",
    "MLPClassifierModel = MLPClassifier(activation='relu', # can be also identity , logistic , relu\n",
    "                                   solver='adam',  # can be also sgd , adam\n",
    "                                   learning_rate='constant', # can be also invscaling , adaptive\n",
    "                                   early_stopping= False,\n",
    "                                   alpha=0.0001 ,hidden_layer_sizes=(250, 3),random_state=33)\n",
    "MLPClassifierModel.fit(X_train, y_train)\n"
   ]
  },
  {
   "cell_type": "code",
   "execution_count": 6,
   "metadata": {},
   "outputs": [
    {
     "name": "stdout",
     "output_type": "stream",
     "text": [
      "MLPClassifierModel Train Score is :  0.35\n",
      "MLPClassifierModel Test Score is :  0.3\n",
      "MLPClassifierModel loss is :  1.0984877241392528\n",
      "MLPClassifierModel No. of iterations is :  13\n",
      "MLPClassifierModel No. of layers is :  4\n",
      "MLPClassifierModel last activation is :  softmax\n",
      "----------------------------------------------------\n"
     ]
    }
   ],
   "source": [
    "#Calculating Details\n",
    "print('MLPClassifierModel Train Score is : ' , MLPClassifierModel.score(X_train, y_train))\n",
    "print('MLPClassifierModel Test Score is : ' , MLPClassifierModel.score(X_test, y_test))\n",
    "print('MLPClassifierModel loss is : ' , MLPClassifierModel.loss_)\n",
    "print('MLPClassifierModel No. of iterations is : ' , MLPClassifierModel.n_iter_)\n",
    "print('MLPClassifierModel No. of layers is : ' , MLPClassifierModel.n_layers_)\n",
    "print('MLPClassifierModel last activation is : ' , MLPClassifierModel.out_activation_)\n",
    "print('----------------------------------------------------')\n"
   ]
  },
  {
   "cell_type": "code",
   "execution_count": 7,
   "metadata": {},
   "outputs": [
    {
     "name": "stdout",
     "output_type": "stream",
     "text": [
      "Predicted Value for MLPClassifierModel is :  [1 1 1 1 1 1 1 1 1 1]\n",
      "Prediction Probabilities Value for MLPClassifierModel is :  [[0.33455322 0.33822461 0.32722216]\n",
      " [0.33455322 0.33822461 0.32722216]\n",
      " [0.33455322 0.33822461 0.32722216]\n",
      " [0.33455322 0.33822461 0.32722216]\n",
      " [0.33455322 0.33822461 0.32722216]\n",
      " [0.33455322 0.33822461 0.32722216]\n",
      " [0.33455322 0.33822461 0.32722216]\n",
      " [0.33455322 0.33822461 0.32722216]\n",
      " [0.33455322 0.33822461 0.32722216]\n",
      " [0.33455322 0.33822461 0.32722216]]\n",
      "Confusion Matrix is : \n",
      " [[ 0 18  0]\n",
      " [ 0 15  0]\n",
      " [ 0 17  0]]\n"
     ]
    },
    {
     "data": {
      "image/png": "[encoded data removed]",
      "text/plain": [
       "<Figure size 640x480 with 2 Axes>"
      ]
     },
     "metadata": {},
     "output_type": "display_data"
    }
   ],
   "source": [
    "#Calculating Prediction\n",
    "y_pred = MLPClassifierModel.predict(X_test)\n",
    "y_pred_prob = MLPClassifierModel.predict_proba(X_test)\n",
    "print('Predicted Value for MLPClassifierModel is : ' , y_pred[:10])\n",
    "print('Prediction Probabilities Value for MLPClassifierModel is : ' , y_pred_prob[:10])\n",
    "\n",
    "#----------------------------------------------------\n",
    "#Calculating Confusion Matrix\n",
    "CM = confusion_matrix(y_test, y_pred)\n",
    "print('Confusion Matrix is : \\n', CM)\n",
    "\n",
    "# drawing confusion matrix\n",
    "sns.heatmap(CM, center = True)\n",
    "plt.show()\n"
   ]
  }
 ],
 "metadata": {
  "kernelspec": {
   "display_name": "Python 3",
   "language": "python",
   "name": "python3"
  },
  "language_info": {
   "codemirror_mode": {
    "name": "ipython",
    "version": 3
   },
   "file_extension": ".py",
   "mimetype": "text/x-python",
   "name": "python",
   "nbconvert_exporter": "python",
   "pygments_lexer": "ipython3",
   "version": "3.11.7"
  }
 },
 "nbformat": 4,
 "nbformat_minor": 2
}
